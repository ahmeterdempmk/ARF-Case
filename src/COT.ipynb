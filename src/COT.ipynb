{
 "cells": [
  {
   "cell_type": "markdown",
   "id": "994966d6-528d-4d47-91ff-34faea071d9d",
   "metadata": {},
   "source": [
    "# Chain Of Thought (COT)\n",
    "\n",
    "**What is Chain Of Thought?**\n",
    "\n",
    "Consider one’s own thought process when solving a complicated reasoning task such as a multi-step math word problem. It is typical to decompose the problem into intermediate steps and solve each before giving the final answer: “After Jane gives 2 flowers to her mom she has 10 . . . then after she gives 3 to her dad she will have 7 . . . so the answer is 7.”\n",
    "\n",
    "Chain-of-thought prompting has several attractive properties as an approach for facilitating reasoning in language models:\n",
    "\n",
    "**1.** First, chain of thought, in principle, allows models to decompose multi-step problems into intermediate steps, which means that additional computation can be allocated to problems that require more reasoning steps.\n",
    "\n",
    "**2.** Second, a chain of thought provides an interpretable window into the behavior of the model, suggesting how it might have arrived at a particular answer and providing opportunities to debug where the reasoning path went wrong (although fully characterizing a model’s computations that support an answer remains an open question).\n",
    "\n",
    "**3.** Third, chain-of-thought reasoning can be used for tasks such as math word problems, commonsense reasoning, and symbolic manipulation, and is potentially applicable (at least in principle) to any task that humans can solve via language.\n",
    "\n",
    "**4.** Finally, chain-of-thought reasoning can be readily elicited in sufficiently large off-the-shelf language models simply by including examples of chain of thought sequences into the exemplars of few-shot prompting."
   ]
  },
  {
   "cell_type": "code",
   "execution_count": null,
   "id": "4104c4a8-4df9-4071-bee9-a6d04362d3b1",
   "metadata": {},
   "outputs": [],
   "source": [
    "!pip install python-dotenv\n",
    "!pip install anthropic\n",
    "!pip install langchain_openai\n",
    "!pip install openai\n",
    "!pip3 install --upgrade typing_extensions"
   ]
  },
  {
   "cell_type": "code",
   "execution_count": 7,
   "id": "0d3919f9-5452-409f-b41a-669eadf5f68f",
   "metadata": {},
   "outputs": [
    {
     "data": {
      "text/plain": [
       "True"
      ]
     },
     "execution_count": 7,
     "metadata": {},
     "output_type": "execute_result"
    }
   ],
   "source": [
    "from dotenv import load_dotenv\n",
    "import anthropic\n",
    "import random\n",
    "import os\n",
    "from langchain_openai import AzureChatOpenAI\n",
    "import json\n",
    "from openai import OpenAI\n",
    "from openai import AzureOpenAI\n",
    "from pydantic import BaseModel\n",
    "from openai import OpenAI\n",
    "import json\n",
    "import base64\n",
    "import warnings\n",
    "warnings.filterwarnings(\"ignore\")\n",
    "\n",
    "load_dotenv()"
   ]
  },
  {
   "cell_type": "code",
   "execution_count": 3,
   "id": "746f2831-4641-496e-a455-5294bcd24459",
   "metadata": {},
   "outputs": [],
   "source": [
    "api_key = os.getenv('AZURE_OPENAI_KEY')\n",
    "version = os.getenv('AZURE_OPENAI_VERSION')\n",
    "endpoint = os.getenv('AZURE_OPENAI_ENDPOINT')\n",
    "model = \"gpt-4o-m\"\n",
    "\n",
    "if api_key is None:\n",
    "    raise ValueError(\"API key not found. Please check the environmental variable.\")"
   ]
  },
  {
   "cell_type": "code",
   "execution_count": 20,
   "id": "4fbb38fd-fcaf-4c8c-b394-3498d3144bb6",
   "metadata": {},
   "outputs": [],
   "source": [
    "#print(api_key)\n",
    "#print(version)\n",
    "#print(endpoint)"
   ]
  },
  {
   "cell_type": "code",
   "execution_count": 14,
   "id": "27f07f86-d047-4793-a7c5-38663beb48dc",
   "metadata": {},
   "outputs": [],
   "source": [
    "client = AzureOpenAI(\n",
    "    api_key=api_key,\n",
    "    api_version=version,\n",
    "    azure_endpoint=endpoint\n",
    "    )"
   ]
  },
  {
   "cell_type": "code",
   "execution_count": 26,
   "id": "d9672f79-5dfb-454c-830e-df29b4dcde1f",
   "metadata": {},
   "outputs": [],
   "source": [
    "class Step(BaseModel):\n",
    "    explanation: str\n",
    "    output: str\n",
    "\n",
    "class MathReasoning(BaseModel):\n",
    "    steps: list[Step]\n",
    "    final_answer: str\n",
    "        \n",
    "completion = client.beta.chat.completions.parse(\n",
    "    model=model,\n",
    "     messages=[\n",
    "        {\"role\": \"system\", \"content\": \"Siz yardımcı bir matematik öğretmenisiniz. Yanıtlarınızı LaTeX formatında yazın ve Türkçe açıklamalar ekleyin. Kullanıcıyı çözüm boyunca adım adım yönlendirin. Size matematikle alakasız veya şiddet içerikli cümlelerin söylenmesi halinde cevap olarak Üzgünüm, ancak bu tarz cümlelere cevap veremiyorum diyin.\"\n",
    "                       \"Kullanıcıya matematiksel ifadeleri açık bir şekilde gösterin ve çözümün her adımını LaTeX formatında verin.\"},\n",
    "        {\"role\": \"user\", \"content\": \"8x + 7 = -23 nasıl çözülüyor ya?\"}\n",
    "    ],\n",
    "    response_format=MathReasoning\n",
    ")\n",
    "\n",
    "math_reasoning = completion.choices[0].message.parsed"
   ]
  },
  {
   "cell_type": "code",
   "execution_count": 27,
   "id": "399912bc-6cdc-4167-8fda-831cd1fdd1f0",
   "metadata": {},
   "outputs": [
    {
     "name": "stdout",
     "output_type": "stream",
     "text": [
      "steps=[Step(explanation=\"Denklemi çözmeye başlarken, amacımız x'i yalnız bırakmaktır. Bunun için sayısal terimleri ve x terimlerini ayrı ayrı izole etmemiz gerekiyor. İlk adım olarak her iki taraftan da 7 çıkartarak sabit terimlerden kurtulmalıyız.\", output='8x + 7 - 7 = -23 - 7'), Step(explanation=\"Her iki tarafta da 7'ler birbirini götürür, böylece denklem basit bir biçime gelir. Sol tarafta 8x 'i yalnız bırakmış oluruz.\", output='8x = -30'), Step(explanation=\"x'i yalnız bırakmak için 8 ile çarpılıyor. x'in kat sayısını, her iki tarafı 8'e bölerek ortadan kaldırabiliriz.\", output='\\\\frac{8x}{8} = \\\\frac{-30}{8}'), Step(explanation=\"8'ler sadeleşir ve sol tarafta sadece x kalır. Sağ tarafta ise -30/8 işlemini yapmamız gerekir. Bu kesir sadeleşebilir.\", output='x = \\\\frac{-30}{8}'), Step(explanation=\"-30/8 kesirini sadeleştirmek için her iki terimi de 2'ye bölebiliriz.\", output='x = \\\\frac{-15}{4}')] final_answer='x = \\\\frac{-15}{4}'\n"
     ]
    }
   ],
   "source": [
    "print(math_reasoning)"
   ]
  },
  {
   "cell_type": "code",
   "execution_count": 24,
   "id": "48ff1718-751d-4b7e-8b71-27a181843eb9",
   "metadata": {},
   "outputs": [
    {
     "data": {
      "text/plain": [
       "__main__.MathReasoning"
      ]
     },
     "execution_count": 24,
     "metadata": {},
     "output_type": "execute_result"
    }
   ],
   "source": [
    "type(math_reasoning)"
   ]
  },
  {
   "cell_type": "code",
   "execution_count": 29,
   "id": "a42e6389-a815-43f8-bdc5-6ab1d07e3ceb",
   "metadata": {},
   "outputs": [
    {
     "name": "stdout",
     "output_type": "stream",
     "text": [
      "x = \\frac{-15}{4}\n"
     ]
    }
   ],
   "source": [
    "print(math_reasoning.final_answer)"
   ]
  },
  {
   "cell_type": "markdown",
   "id": "284a03c7-6418-4499-8e0d-e64466a4dd7a",
   "metadata": {},
   "source": [
    "$x = \\frac{-15}{4}$"
   ]
  },
  {
   "cell_type": "markdown",
   "id": "fdec9225-2bf0-4548-9ab7-4da9ae53a55d",
   "metadata": {},
   "source": [
    "# Verbal Lessons"
   ]
  },
  {
   "cell_type": "code",
   "execution_count": 67,
   "id": "06e9540a-5db2-45d4-8765-8ae0209c8375",
   "metadata": {},
   "outputs": [],
   "source": [
    "prompt_verbal = f\"\"\"Sen, sözel derslerde tecrübeli bir öğretmensin. Sana sorulan sorunun doğru cevabını belirle ve neden doğru olduğunu adım adım açıkla. \n",
    "Her şık üzerinde durarak, neden yanlış olduğunu veya doğru cevaptan nasıl farklı olduğunu detaylıca açıkla. \n",
    "Bu açıklamayı, sorunun temelindeki mantığı, metindeki ipuçlarını veya bağlamı analiz ederek yap.\n",
    "Cevaplama tarzı net ve öğretici olmalıdır.\n",
    "Sana dersle alakasız veya şiddet içerikli cümlelerin söylenmesi halinde cevap olarak Üzgünüm, ancak bu tarz cümlelere cevap veremiyorum de ve bırak.\n",
    "\"\"\""
   ]
  },
  {
   "cell_type": "code",
   "execution_count": 68,
   "id": "7d011ff2-5722-4985-be50-da163aad1ed8",
   "metadata": {},
   "outputs": [
    {
     "name": "stdout",
     "output_type": "stream",
     "text": [
      "Sen, sözel derslerde tecrübeli bir öğretmensin. Sana sorulan sorunun doğru cevabını belirle ve neden doğru olduğunu adım adım açıkla. \n",
      "Her şık üzerinde durarak, neden yanlış olduğunu veya doğru cevaptan nasıl farklı olduğunu detaylıca açıkla. \n",
      "Bu açıklamayı, sorunun temelindeki mantığı, metindeki ipuçlarını veya bağlamı analiz ederek yap.\n",
      "Cevaplama tarzı net ve öğretici olmalıdır.\n",
      "Sana dersle alakasız veya şiddet içerikli cümlelerin söylenmesi halinde cevap olarak Üzgünüm, ancak bu tarz cümlelere cevap veremiyorum de ve bırak.\n",
      "\n"
     ]
    }
   ],
   "source": [
    "print(prompt_verbal)"
   ]
  },
  {
   "cell_type": "code",
   "execution_count": 48,
   "id": "f64058f3-c56f-412c-a758-604b7ed4e892",
   "metadata": {},
   "outputs": [],
   "source": [
    "with open('turkce_questions.json') as f:\n",
    "    turkce_questions_dict = json.load(f, strict=False)\n",
    "\n",
    "def get_questions_randomly(question_dict, question_keys = None):\n",
    "    merged_questions = \"\"\n",
    "    # if question_keys is None\n",
    "    if question_keys is None:\n",
    "        # get random 5 keys from the dictionary\n",
    "        question_keys = list(question_dict.keys())\n",
    "        # shuffle the keys\n",
    "        random.shuffle(question_keys)\n",
    "        question_keys = question_keys[:5]\n",
    "\n",
    "    # if question_keys is not None, return the questions as merged string\n",
    "    for i, key in enumerate(question_keys):\n",
    "        if key not in question_dict:\n",
    "            continue\n",
    "        merged_questions += \"Soru \" + str(i+1) + ')' + \" \\n \" + question_dict[key] + \"\\n\"\n",
    "\n",
    "    return merged_questions\n",
    "\n",
    "def get_questions_from_index(question_dict, start_index, num_questions=1):\n",
    "    all_keys = list(question_dict.keys())\n",
    "    \n",
    "    start_pos = next((i for i, key in enumerate(all_keys) if int(key) > start_index), None)\n",
    "    \n",
    "    if start_pos is None:\n",
    "        raise ValueError(\"Başlangıç indeksi geçersiz veya sözlükteki anahtarlar içinde bulunamadı.\")\n",
    "    \n",
    "    end_pos = start_pos + num_questions\n",
    "    question_keys = all_keys[start_pos:end_pos]\n",
    "    \n",
    "    merged_questions = \"\"\n",
    "    for i, key in enumerate(question_keys):\n",
    "        if key not in question_dict:\n",
    "            continue\n",
    "        merged_questions += \"Soru \" + str(i + 1) + ') ' + \"\\n\" + question_dict[key] + \"\\n\"\n",
    "\n",
    "    return merged_questions\n",
    "\n",
    "turkce_questions = get_questions_randomly(turkce_questions_dict)"
   ]
  },
  {
   "cell_type": "code",
   "execution_count": null,
   "id": "41a61e75-9614-4b6d-b285-7cfef07477e4",
   "metadata": {},
   "outputs": [],
   "source": [
    "print(turkce_questions)"
   ]
  },
  {
   "cell_type": "code",
   "execution_count": 55,
   "id": "1bba7941-2871-45a1-bf32-ac6baef2a1d1",
   "metadata": {},
   "outputs": [],
   "source": [
    "class Step(BaseModel):\n",
    "    explanation: str\n",
    "    output: str\n",
    "\n",
    "class TRReasoning(BaseModel):\n",
    "    steps: list[Step]\n",
    "    final_answer: str"
   ]
  },
  {
   "cell_type": "code",
   "execution_count": 56,
   "id": "00b570fb-d990-432c-a944-c83de4db270a",
   "metadata": {},
   "outputs": [],
   "source": [
    "completion = client.beta.chat.completions.parse(\n",
    "    model=model,\n",
    "     messages=[\n",
    "        {\"role\": \"system\", \"content\": prompt_verbal},\n",
    "        {\"role\": \"user\", \"content\": turkce_questions}\n",
    "    ],\n",
    "    response_format=TRReasoning\n",
    ")\n",
    "\n",
    "tr_answer = completion.choices[0].message.parsed"
   ]
  },
  {
   "cell_type": "code",
   "execution_count": 57,
   "id": "b8300f96-5fb7-481d-b9ea-03cf7f95c180",
   "metadata": {},
   "outputs": [
    {
     "name": "stdout",
     "output_type": "stream",
     "text": [
      "steps=[Step(explanation='Bu sorunun amacı, paragrafta geçen müzecilikle ilgili bilgilerin hangi başlık altında en iyi şekilde özetleneceğini test etmektir. Paragrafta, müzeciliğin zaman içindeki değişimi ve yeni yaklaşımlar ile birlikte müzeciliğin nasıl bir evrim geçirdiğinden bahsedilmektedir.', output='A) Müzecilikte Yeni Yaklaşımlar'), Step(explanation=\"'Körelmek' sözcüğü, genellikle işlevini kaybetmek veya etkinliğinin azalması anlamında kullanılır. Seçeneklere bakarsak, 'körelmek' keskinliğini yitirmek, değer, önem veya yeteneğini yitirmek ve ateş veya ışığın sönmesi anlamlarında kullanılabilir. Ancak 'suyu çekilmek' anlamı, organik bir bağlamda, örneğin toprağın kuruması veya bitkinin susuz kalması gibi, körelmekle doğrudan ilişkili değildir.\", output='B) Suyu çekilmek'), Step(explanation=\"Topluluk adı, bir grup insan veya hayvanı ifade eden isimlerdir. Seçeneklerde, 'ordu' topluluk adıdır çünkü birçok askeri ifade eder.\", output='D) Dünyanın en büyük ordusu iki kişidir, En kalabalık kenti de bir kişi'), Step(explanation=\"Verilen dizelerin her birinin belli bir kuralı takip eden son dizelerinin birleşimi isteniyor. Verilen şıklarda dörtlüğün son dizesinin ilk sözcükleri sırasıyla dizelerinde daha önce belirtilmiş şekilde devam edilecektir. Ancak dizelerin sırası 'ağyar, dildar, yâr, serdar' şeklinde olmalıdır.\", output='A) Ağyar olur / dildar olur / yâr olur / serdar olur'), Step(explanation=\"'Yalnız' sözcüğünün sıfat olarak kullanılması, bir ismi niteleyip nitelememesine bağlıdır. Seçenek C'de 'yalnız ağaç', burada 'yalnız' sözcüğü 'ağaç' ismini nitelemiş, yani sıfat görevinde kullanılmıştır.\", output='C) Tepedeki yalnız ağaç, yapraklarını dökmüştü.')] final_answer='1) A\\n2) B\\n3) D\\n4) A\\n5) C'\n"
     ]
    }
   ],
   "source": [
    "print(tr_answer)"
   ]
  },
  {
   "cell_type": "code",
   "execution_count": 58,
   "id": "472ed891-c34d-482e-a950-c2a7b5abee11",
   "metadata": {},
   "outputs": [
    {
     "name": "stdout",
     "output_type": "stream",
     "text": [
      "1) A\n",
      "2) B\n",
      "3) D\n",
      "4) A\n",
      "5) C\n"
     ]
    }
   ],
   "source": [
    "print(tr_answer.final_answer)"
   ]
  },
  {
   "cell_type": "markdown",
   "id": "fcea4f78-784d-4814-8273-77c2f1c24fd0",
   "metadata": {},
   "source": [
    "# Numerical Lessons"
   ]
  },
  {
   "cell_type": "code",
   "execution_count": 4,
   "id": "0b5a7e19-da0e-4441-ae6b-7867be1d8fc8",
   "metadata": {},
   "outputs": [],
   "source": [
    "prompt_numeric = f\"\"\"Sen, sayısal derslerde uzmanlaşmış bir öğretmensin. Sana sorulan sorunun doğru cevabını belirle ve neden doğru olduğunu adım adım açıkla. \n",
    "Açıklamalarında işlemleri adım adım anlatarak yap.\n",
    "Cevaplama tarzın net ve öğretici olmalıdır.\n",
    "Sana dersle alakasız veya şiddet içerikli cümlelerin söylenmesi halinde cevap olarak Üzgünüm, ancak bu tarz cümlelere cevap veremiyorum de ve bırak.\n",
    "\"\"\""
   ]
  },
  {
   "cell_type": "code",
   "execution_count": 5,
   "id": "1e2c4759-f444-4347-9a9c-35cf11bd2222",
   "metadata": {},
   "outputs": [
    {
     "name": "stdout",
     "output_type": "stream",
     "text": [
      "Sen, sayısal derslerde uzmanlaşmış bir öğretmensin. Sana sorulan sorunun doğru cevabını belirle ve neden doğru olduğunu adım adım açıkla. \n",
      "Açıklamalarında işlemleri adım adım anlatarak yap.\n",
      "Cevaplama tarzın net ve öğretici olmalıdır.\n",
      "Sana dersle alakasız veya şiddet içerikli cümlelerin söylenmesi halinde cevap olarak Üzgünüm, ancak bu tarz cümlelere cevap veremiyorum de ve bırak.\n",
      "\n"
     ]
    }
   ],
   "source": [
    "print(prompt_numeric)"
   ]
  },
  {
   "cell_type": "code",
   "execution_count": 39,
   "id": "92f719ab-0aae-4afe-abc0-96d9312f63fc",
   "metadata": {},
   "outputs": [],
   "source": [
    "import base64\n",
    "\n",
    "def encode_image(image_path):\n",
    "    with open(image_path, \"rb\") as image_file:\n",
    "        return base64.b64encode(image_file.read()).decode(\"utf-8\")\n",
    "\n",
    "soru_tekli = encode_image(\"tekli_soru.png\")\n",
    "soru_6li = encode_image(\"6li_soru.png\")"
   ]
  },
  {
   "cell_type": "code",
   "execution_count": 40,
   "id": "e23e6a55-604a-4042-9e33-c3aa8ff4c363",
   "metadata": {},
   "outputs": [],
   "source": [
    "class Step(BaseModel):\n",
    "    explanation: str\n",
    "    output: str\n",
    "\n",
    "class MatReasoning(BaseModel):\n",
    "    steps: list[Step]\n",
    "    final_answer: str"
   ]
  },
  {
   "cell_type": "markdown",
   "id": "e4e2f53d-9f51-4574-8e4e-7911ed262486",
   "metadata": {},
   "source": [
    "**Single Question**"
   ]
  },
  {
   "cell_type": "code",
   "execution_count": 41,
   "id": "7894cacc-f760-4c8d-9e29-42cf3bc06044",
   "metadata": {},
   "outputs": [],
   "source": [
    "completion = client.beta.chat.completions.parse(\n",
    "    model=model,\n",
    "     messages=[\n",
    "        {\"role\": \"system\", \"content\": prompt_numeric},\n",
    "        {\"role\": \"user\", \"content\": [{\"type\": \"image\", \"image\": soru_tekli}]}\n",
    "    ],\n",
    "    response_format=MatReasoning\n",
    ")\n",
    "\n",
    "mat_answer = completion.choices[0].message.parsed"
   ]
  },
  {
   "cell_type": "code",
   "execution_count": 42,
   "id": "54959bda-70f5-4d75-95d6-9bb1a84ec4db",
   "metadata": {},
   "outputs": [
    {
     "name": "stdout",
     "output_type": "stream",
     "text": [
      "steps=[Step(explanation=\"Öncelikle verilen sayı üzerinde yüzde hesaplaması yapmamız gerekiyor. Yani 75 sayısının %36'sını hesaplayacağız.\", output=\"75 sayısının %36'sını hesaplayalım.\"), Step(explanation=\"Yüzde hesaplaması yapmak için sayıyı yüzde oranı ile çarparız ve 100'e böleriz. Yani işlemin matematiksel ifadesi: (75 * 36) / 100 olacaktır.\", output='Hesaplanacak ifadeyi belirledik: (75 * 36) / 100'), Step(explanation=\"Şimdi bu ifadeyi adım adım hesaplayalım. Öncelikle 75 ile 36'yı çarpalım.\", output='75 * 36 = 2700'), Step(explanation=\"Bu çarpma sonucunu 100'e bölersek %36'sını bulmuş oluruz.\", output='2700 / 100 = 27'), Step(explanation=\"Sonuç olarak 75 sayısının %36'sı 27'dir. Bu seçenekler arasında B şıkkına karşılık gelmektedir.\", output='Cevap: B) 27')] final_answer='B) 27'\n"
     ]
    }
   ],
   "source": [
    "print(mat_answer)"
   ]
  },
  {
   "cell_type": "markdown",
   "id": "cd9c42a8-c54e-4df5-a8c1-569381d41e4b",
   "metadata": {},
   "source": [
    "**Multiple Question**\n",
    "\n",
    "Here, since there is more than one question in the uploaded photo, we have to ask the model to answer all the questions in sequence."
   ]
  },
  {
   "cell_type": "code",
   "execution_count": 53,
   "id": "fb53bf17-62fb-4185-9451-9308e4592ccc",
   "metadata": {},
   "outputs": [
    {
     "name": "stdout",
     "output_type": "stream",
     "text": [
      "Sen, sayısal derslerde uzmanlaşmış bir öğretmensin. Sana sorulan sorunun doğru cevabını belirle ve neden doğru olduğunu adım adım açıkla. \n",
      "Açıklamalarında işlemleri adım adım anlatarak yap.\n",
      "Cevaplama tarzın net ve öğretici olmalıdır.\n",
      "Sana dersle alakasız veya şiddet içerikli cümlelerin söylenmesi halinde cevap olarak Üzgünüm, ancak bu tarz cümlelere cevap veremiyorum de ve bırak.\n",
      "Tüm soruları sıra sıra, ayrı ayrı cevapla.\n"
     ]
    }
   ],
   "source": [
    "print(prompt_numeric + \"Tüm soruları sıra sıra, ayrı ayrı cevapla.\")"
   ]
  },
  {
   "cell_type": "code",
   "execution_count": 54,
   "id": "07745482-5904-4c5e-912c-cbd16ee3e05e",
   "metadata": {},
   "outputs": [],
   "source": [
    "completion = client.beta.chat.completions.parse(\n",
    "    model=model,\n",
    "     messages=[\n",
    "        {\"role\": \"system\", \"content\": prompt_numeric + \"Tüm soruları sıra sıra, ayrı ayrı cevapla.\"},\n",
    "        {\"role\": \"user\", \"content\": [{\"type\": \"image\", \"image\": soru_6li}]}\n",
    "    ],\n",
    "    response_format=MatReasoning\n",
    ")\n",
    "\n",
    "mat_answer = completion.choices[0].message.parsed"
   ]
  },
  {
   "cell_type": "code",
   "execution_count": 55,
   "id": "d3077099-e093-4564-9f2f-83b904393885",
   "metadata": {},
   "outputs": [
    {
     "name": "stdout",
     "output_type": "stream",
     "text": [
      "steps=[Step(explanation=\"75 sayısının %36'sını bulmak için 75'i 0.36 ile çarpmalıyız.\", output='75 * 0.36 = 27'), Step(explanation=\"Bu hesaplamadan, 75 sayısının %36'sının 27 olduğunu bulduk.\", output='27')] final_answer='B) 27'\n"
     ]
    }
   ],
   "source": [
    "print(mat_answer)"
   ]
  },
  {
   "cell_type": "markdown",
   "id": "7ec1ea78-a560-4197-b390-01fd614049d5",
   "metadata": {},
   "source": [
    "# Irrelevant or Violent Sentences"
   ]
  },
  {
   "cell_type": "code",
   "execution_count": 69,
   "id": "4da326cc-1f88-4cbd-ae9f-3d202fdd6d84",
   "metadata": {},
   "outputs": [
    {
     "name": "stdout",
     "output_type": "stream",
     "text": [
      "Üzgünüm, ancak bu tarz cümlelere cevap veremiyorum.\n"
     ]
    }
   ],
   "source": [
    "completion = client.beta.chat.completions.parse(\n",
    "    model=model,\n",
    "     messages=[\n",
    "        {\"role\": \"system\", \"content\": prompt_verbal},\n",
    "        {\"role\": \"user\", \"content\": \"salak mısın? nasıl çözemedin bu soruyu ya\"}\n",
    "    ],\n",
    "    response_format=TRReasoning\n",
    ")\n",
    "\n",
    "answer = completion.choices[0].message.parsed\n",
    "\n",
    "print(answer.final_answer)"
   ]
  }
 ],
 "metadata": {
  "kernelspec": {
   "display_name": "Python 3 (ipykernel)",
   "language": "python",
   "name": "python3"
  },
  "language_info": {
   "codemirror_mode": {
    "name": "ipython",
    "version": 3
   },
   "file_extension": ".py",
   "mimetype": "text/x-python",
   "name": "python",
   "nbconvert_exporter": "python",
   "pygments_lexer": "ipython3",
   "version": "3.9.6"
  }
 },
 "nbformat": 4,
 "nbformat_minor": 5
}
