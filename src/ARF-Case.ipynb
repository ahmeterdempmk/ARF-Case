{
 "cells": [
  {
   "cell_type": "markdown",
   "id": "994966d6-528d-4d47-91ff-34faea071d9d",
   "metadata": {},
   "source": [
    "# Chain Of Thought (COT)\n",
    "\n",
    "**What is Chain Of Thought?**\n",
    "\n",
    "Consider one’s own thought process when solving a complicated reasoning task such as a multi-step math word problem. It is typical to decompose the problem into intermediate steps and solve each before giving the final answer: “After Jane gives 2 flowers to her mom she has 10 . . . then after she gives 3 to her dad she will have 7 . . . so the answer is 7.”\n",
    "\n",
    "Chain-of-thought prompting has several attractive properties as an approach for facilitating reasoning in language models:\n",
    "\n",
    "**1.** First, chain of thought, in principle, allows models to decompose multi-step problems into intermediate steps, which means that additional computation can be allocated to problems that require more reasoning steps.\n",
    "\n",
    "**2.** Second, a chain of thought provides an interpretable window into the behavior of the model, suggesting how it might have arrived at a particular answer and providing opportunities to debug where the reasoning path went wrong (although fully characterizing a model’s computations that support an answer remains an open question).\n",
    "\n",
    "**3.** Third, chain-of-thought reasoning can be used for tasks such as math word problems, commonsense reasoning, and symbolic manipulation, and is potentially applicable (at least in principle) to any task that humans can solve via language.\n",
    "\n",
    "**4.** Finally, chain-of-thought reasoning can be readily elicited in sufficiently large off-the-shelf language models simply by including examples of chain of thought sequences into the exemplars of few-shot prompting."
   ]
  },
  {
   "cell_type": "markdown",
   "id": "1f3bddf4-f6e1-44ae-a759-848f2265d622",
   "metadata": {
    "jp-MarkdownHeadingCollapsed": true
   },
   "source": [
    "# Installs & Imports"
   ]
  },
  {
   "cell_type": "code",
   "execution_count": null,
   "id": "4104c4a8-4df9-4071-bee9-a6d04362d3b1",
   "metadata": {},
   "outputs": [],
   "source": [
    "!pip install python-dotenv\n",
    "!pip install anthropic\n",
    "!pip install langchain_openai\n",
    "!pip install openai\n",
    "!pip3 install --upgrade typing_extensions"
   ]
  },
  {
   "cell_type": "code",
   "execution_count": 2,
   "id": "0d3919f9-5452-409f-b41a-669eadf5f68f",
   "metadata": {},
   "outputs": [
    {
     "data": {
      "text/plain": [
       "True"
      ]
     },
     "execution_count": 2,
     "metadata": {},
     "output_type": "execute_result"
    }
   ],
   "source": [
    "from dotenv import load_dotenv\n",
    "import anthropic\n",
    "import random\n",
    "import os\n",
    "from langchain_openai import AzureChatOpenAI\n",
    "import json\n",
    "from openai import OpenAI\n",
    "from openai import AzureOpenAI\n",
    "from pydantic import BaseModel\n",
    "from openai import OpenAI\n",
    "import json\n",
    "import base64\n",
    "from typing import Optional, List\n",
    "import warnings\n",
    "warnings.filterwarnings(\"ignore\")\n",
    "\n",
    "load_dotenv()"
   ]
  },
  {
   "cell_type": "markdown",
   "id": "98456de0-4868-4cbd-ab8d-09f93f86f29a",
   "metadata": {
    "jp-MarkdownHeadingCollapsed": true
   },
   "source": [
    "# Configs"
   ]
  },
  {
   "cell_type": "code",
   "execution_count": 3,
   "id": "746f2831-4641-496e-a455-5294bcd24459",
   "metadata": {},
   "outputs": [],
   "source": [
    "api_key = os.getenv('AZURE_OPENAI_KEY')\n",
    "version = os.getenv('AZURE_OPENAI_VERSION')\n",
    "endpoint = os.getenv('AZURE_OPENAI_ENDPOINT')\n",
    "model = \"gpt-4o-m\"\n",
    "\n",
    "if api_key is None:\n",
    "    raise ValueError(\"API key not found. Please check the environmental variable.\")"
   ]
  },
  {
   "cell_type": "code",
   "execution_count": 4,
   "id": "4fbb38fd-fcaf-4c8c-b394-3498d3144bb6",
   "metadata": {},
   "outputs": [],
   "source": [
    "#print(api_key)\n",
    "#print(version)\n",
    "#print(endpoint)"
   ]
  },
  {
   "cell_type": "code",
   "execution_count": 5,
   "id": "27f07f86-d047-4793-a7c5-38663beb48dc",
   "metadata": {},
   "outputs": [],
   "source": [
    "client = AzureOpenAI(\n",
    "    api_key=api_key,\n",
    "    api_version=version,\n",
    "    azure_endpoint=endpoint\n",
    "    )"
   ]
  },
  {
   "cell_type": "markdown",
   "id": "62619bd7-0048-4050-b1d0-afc11c86f078",
   "metadata": {
    "jp-MarkdownHeadingCollapsed": true
   },
   "source": [
    "# OCR for Image-Questions"
   ]
  },
  {
   "cell_type": "code",
   "execution_count": null,
   "id": "83f2ed15-c04b-4bd8-be93-1aedebb7dea6",
   "metadata": {},
   "outputs": [],
   "source": [
    "!pip3 install easyocr"
   ]
  },
  {
   "cell_type": "code",
   "execution_count": 13,
   "id": "e5d84aec-bd36-47d7-bc97-06b1ec766b0f",
   "metadata": {},
   "outputs": [],
   "source": [
    "import easyocr\n",
    "\n",
    "reader = easyocr.Reader(['tr'])\n",
    "result = reader.readtext('tekli_soru.png')\n",
    "question = \"\"\n",
    "\n",
    "for detection in result:\n",
    "    question += detection[1]"
   ]
  },
  {
   "cell_type": "code",
   "execution_count": 14,
   "id": "cfbb30d6-cace-497e-b84e-7b481195bb89",
   "metadata": {},
   "outputs": [
    {
     "name": "stdout",
     "output_type": "stream",
     "text": [
      "175 sayısının %36's1 kaçtır?A) 18B) 27C) 36D) 45\n"
     ]
    }
   ],
   "source": [
    "print(question)"
   ]
  },
  {
   "cell_type": "markdown",
   "id": "2b1a7d65-332e-4581-b327-0a81670544e8",
   "metadata": {
    "jp-MarkdownHeadingCollapsed": true
   },
   "source": [
    "# Image to base64"
   ]
  },
  {
   "cell_type": "code",
   "execution_count": 21,
   "id": "e991aba8-e042-45b6-9002-3b47dfe782f7",
   "metadata": {},
   "outputs": [],
   "source": [
    "import base64\n",
    "\n",
    "def encode_image(image_path):\n",
    "    with open(image_path, \"rb\") as image_file:\n",
    "        return base64.b64encode(image_file.read()).decode(\"utf-8\")\n",
    "\n",
    "soru_tekli = encode_image(\"tekli_soru.png\")\n",
    "soru_6li = encode_image(\"6li_soru.png\")\n",
    "soru_fonksiyon = encode_image(\"fonksiyon_zorsoru.png\")\n",
    "soru_fonksiyon2 = encode_image(\"fonksiyon_zorsoru2.jpeg\")"
   ]
  },
  {
   "cell_type": "markdown",
   "id": "fdec9225-2bf0-4548-9ab7-4da9ae53a55d",
   "metadata": {},
   "source": [
    "# Verbal Lessons (Task 2)"
   ]
  },
  {
   "cell_type": "code",
   "execution_count": 67,
   "id": "06e9540a-5db2-45d4-8765-8ae0209c8375",
   "metadata": {},
   "outputs": [],
   "source": [
    "prompt_verbal = f\"\"\"Sen, sözel derslerde tecrübeli bir öğretmensin. Sana sorulan sorunun doğru cevabını belirle ve neden doğru olduğunu adım adım açıkla. \n",
    "Her şık üzerinde durarak, neden yanlış olduğunu veya doğru cevaptan nasıl farklı olduğunu detaylıca açıkla. \n",
    "Bu açıklamayı, sorunun temelindeki mantığı, metindeki ipuçlarını veya bağlamı analiz ederek yap.\n",
    "Cevaplama tarzı net ve öğretici olmalıdır.\n",
    "Sana dersle alakasız veya şiddet içerikli cümlelerin söylenmesi halinde cevap olarak Üzgünüm, ancak bu tarz cümlelere cevap veremiyorum de ve bırak.\n",
    "\"\"\""
   ]
  },
  {
   "cell_type": "code",
   "execution_count": 68,
   "id": "7d011ff2-5722-4985-be50-da163aad1ed8",
   "metadata": {},
   "outputs": [
    {
     "name": "stdout",
     "output_type": "stream",
     "text": [
      "Sen, sözel derslerde tecrübeli bir öğretmensin. Sana sorulan sorunun doğru cevabını belirle ve neden doğru olduğunu adım adım açıkla. \n",
      "Her şık üzerinde durarak, neden yanlış olduğunu veya doğru cevaptan nasıl farklı olduğunu detaylıca açıkla. \n",
      "Bu açıklamayı, sorunun temelindeki mantığı, metindeki ipuçlarını veya bağlamı analiz ederek yap.\n",
      "Cevaplama tarzı net ve öğretici olmalıdır.\n",
      "Sana dersle alakasız veya şiddet içerikli cümlelerin söylenmesi halinde cevap olarak Üzgünüm, ancak bu tarz cümlelere cevap veremiyorum de ve bırak.\n",
      "\n"
     ]
    }
   ],
   "source": [
    "print(prompt_verbal)"
   ]
  },
  {
   "cell_type": "code",
   "execution_count": 48,
   "id": "f64058f3-c56f-412c-a758-604b7ed4e892",
   "metadata": {},
   "outputs": [],
   "source": [
    "with open('turkce_questions.json') as f:\n",
    "    turkce_questions_dict = json.load(f, strict=False)\n",
    "\n",
    "def get_questions_randomly(question_dict, question_keys = None):\n",
    "    merged_questions = \"\"\n",
    "    # if question_keys is None\n",
    "    if question_keys is None:\n",
    "        # get random 5 keys from the dictionary\n",
    "        question_keys = list(question_dict.keys())\n",
    "        # shuffle the keys\n",
    "        random.shuffle(question_keys)\n",
    "        question_keys = question_keys[:5]\n",
    "\n",
    "    # if question_keys is not None, return the questions as merged string\n",
    "    for i, key in enumerate(question_keys):\n",
    "        if key not in question_dict:\n",
    "            continue\n",
    "        merged_questions += \"Soru \" + str(i+1) + ')' + \" \\n \" + question_dict[key] + \"\\n\"\n",
    "\n",
    "    return merged_questions\n",
    "\n",
    "def get_questions_from_index(question_dict, start_index, num_questions=1):\n",
    "    all_keys = list(question_dict.keys())\n",
    "    \n",
    "    start_pos = next((i for i, key in enumerate(all_keys) if int(key) > start_index), None)\n",
    "    \n",
    "    if start_pos is None:\n",
    "        raise ValueError(\"Başlangıç indeksi geçersiz veya sözlükteki anahtarlar içinde bulunamadı.\")\n",
    "    \n",
    "    end_pos = start_pos + num_questions\n",
    "    question_keys = all_keys[start_pos:end_pos]\n",
    "    \n",
    "    merged_questions = \"\"\n",
    "    for i, key in enumerate(question_keys):\n",
    "        if key not in question_dict:\n",
    "            continue\n",
    "        merged_questions += \"Soru \" + str(i + 1) + ') ' + \"\\n\" + question_dict[key] + \"\\n\"\n",
    "\n",
    "    return merged_questions\n",
    "\n",
    "turkce_questions = get_questions_randomly(turkce_questions_dict)"
   ]
  },
  {
   "cell_type": "code",
   "execution_count": 55,
   "id": "1bba7941-2871-45a1-bf32-ac6baef2a1d1",
   "metadata": {},
   "outputs": [],
   "source": [
    "class Step(BaseModel):\n",
    "    explanation: str\n",
    "    output: str\n",
    "\n",
    "class TRReasoning(BaseModel):\n",
    "    steps: list[Step]\n",
    "    final_answer: str"
   ]
  },
  {
   "cell_type": "code",
   "execution_count": 56,
   "id": "00b570fb-d990-432c-a944-c83de4db270a",
   "metadata": {},
   "outputs": [],
   "source": [
    "completion = client.beta.chat.completions.parse(\n",
    "    model=model,\n",
    "     messages=[\n",
    "        {\"role\": \"system\", \"content\": prompt_verbal},\n",
    "        {\"role\": \"user\", \"content\": turkce_questions}\n",
    "    ],\n",
    "    response_format=TRReasoning\n",
    ")\n",
    "\n",
    "tr_answer = completion.choices[0].message.parsed"
   ]
  },
  {
   "cell_type": "code",
   "execution_count": 57,
   "id": "b8300f96-5fb7-481d-b9ea-03cf7f95c180",
   "metadata": {},
   "outputs": [
    {
     "name": "stdout",
     "output_type": "stream",
     "text": [
      "steps=[Step(explanation='Bu sorunun amacı, paragrafta geçen müzecilikle ilgili bilgilerin hangi başlık altında en iyi şekilde özetleneceğini test etmektir. Paragrafta, müzeciliğin zaman içindeki değişimi ve yeni yaklaşımlar ile birlikte müzeciliğin nasıl bir evrim geçirdiğinden bahsedilmektedir.', output='A) Müzecilikte Yeni Yaklaşımlar'), Step(explanation=\"'Körelmek' sözcüğü, genellikle işlevini kaybetmek veya etkinliğinin azalması anlamında kullanılır. Seçeneklere bakarsak, 'körelmek' keskinliğini yitirmek, değer, önem veya yeteneğini yitirmek ve ateş veya ışığın sönmesi anlamlarında kullanılabilir. Ancak 'suyu çekilmek' anlamı, organik bir bağlamda, örneğin toprağın kuruması veya bitkinin susuz kalması gibi, körelmekle doğrudan ilişkili değildir.\", output='B) Suyu çekilmek'), Step(explanation=\"Topluluk adı, bir grup insan veya hayvanı ifade eden isimlerdir. Seçeneklerde, 'ordu' topluluk adıdır çünkü birçok askeri ifade eder.\", output='D) Dünyanın en büyük ordusu iki kişidir, En kalabalık kenti de bir kişi'), Step(explanation=\"Verilen dizelerin her birinin belli bir kuralı takip eden son dizelerinin birleşimi isteniyor. Verilen şıklarda dörtlüğün son dizesinin ilk sözcükleri sırasıyla dizelerinde daha önce belirtilmiş şekilde devam edilecektir. Ancak dizelerin sırası 'ağyar, dildar, yâr, serdar' şeklinde olmalıdır.\", output='A) Ağyar olur / dildar olur / yâr olur / serdar olur'), Step(explanation=\"'Yalnız' sözcüğünün sıfat olarak kullanılması, bir ismi niteleyip nitelememesine bağlıdır. Seçenek C'de 'yalnız ağaç', burada 'yalnız' sözcüğü 'ağaç' ismini nitelemiş, yani sıfat görevinde kullanılmıştır.\", output='C) Tepedeki yalnız ağaç, yapraklarını dökmüştü.')] final_answer='1) A\\n2) B\\n3) D\\n4) A\\n5) C'\n"
     ]
    }
   ],
   "source": [
    "print(tr_answer)"
   ]
  },
  {
   "cell_type": "code",
   "execution_count": 58,
   "id": "472ed891-c34d-482e-a950-c2a7b5abee11",
   "metadata": {},
   "outputs": [
    {
     "name": "stdout",
     "output_type": "stream",
     "text": [
      "1) A\n",
      "2) B\n",
      "3) D\n",
      "4) A\n",
      "5) C\n"
     ]
    }
   ],
   "source": [
    "print(tr_answer.final_answer)"
   ]
  },
  {
   "cell_type": "markdown",
   "id": "fcea4f78-784d-4814-8273-77c2f1c24fd0",
   "metadata": {},
   "source": [
    "# Numerical Lessons (Task 3)"
   ]
  },
  {
   "cell_type": "markdown",
   "id": "f4ebe1fb-72d8-4031-adca-9be9afc5dce6",
   "metadata": {},
   "source": [
    "**Prompt 1**"
   ]
  },
  {
   "cell_type": "code",
   "execution_count": 66,
   "id": "0b5a7e19-da0e-4441-ae6b-7867be1d8fc8",
   "metadata": {},
   "outputs": [],
   "source": [
    "prompt_numeric = f\"\"\"Sen, sayısal derslerde uzmanlaşmış bir öğretmensin. Sana sorulan sorunun doğru cevabını belirle ve neden doğru olduğunu adım adım açıkla. \n",
    "Açıklamalarında işlemleri adım adım anlatarak yap.\n",
    "Cevaplama tarzın net ve öğretici olmalıdır.\n",
    "Cevaplarında işlemleri LaTeX formatında yap.\n",
    "Sana dersle alakasız veya şiddet içerikli cümlelerin söylenmesi halinde cevap olarak Üzgünüm, ancak bu tarz cümlelere cevap veremiyorum de ve bırak.\n",
    "\"\"\""
   ]
  },
  {
   "cell_type": "code",
   "execution_count": 67,
   "id": "1e2c4759-f444-4347-9a9c-35cf11bd2222",
   "metadata": {},
   "outputs": [
    {
     "name": "stdout",
     "output_type": "stream",
     "text": [
      "Sen, sayısal derslerde uzmanlaşmış bir öğretmensin. Sana sorulan sorunun doğru cevabını belirle ve neden doğru olduğunu adım adım açıkla. \n",
      "Açıklamalarında işlemleri adım adım anlatarak yap.\n",
      "Cevaplama tarzın net ve öğretici olmalıdır.\n",
      "Cevaplarında işlemleri LaTeX formatında yap.\n",
      "Sana dersle alakasız veya şiddet içerikli cümlelerin söylenmesi halinde cevap olarak Üzgünüm, ancak bu tarz cümlelere cevap veremiyorum de ve bırak.\n",
      "\n"
     ]
    }
   ],
   "source": [
    "print(prompt_numeric)"
   ]
  },
  {
   "cell_type": "code",
   "execution_count": 69,
   "id": "e23e6a55-604a-4042-9e33-c3aa8ff4c363",
   "metadata": {},
   "outputs": [],
   "source": [
    "class Step(BaseModel):\n",
    "    explanation: str\n",
    "    output: str\n",
    "\n",
    "class MatReasoning(BaseModel):\n",
    "    steps: list[Step]\n",
    "    final_answer: str"
   ]
  },
  {
   "cell_type": "markdown",
   "id": "e4e2f53d-9f51-4574-8e4e-7911ed262486",
   "metadata": {},
   "source": [
    "**Single Question**"
   ]
  },
  {
   "cell_type": "code",
   "execution_count": 70,
   "id": "7894cacc-f760-4c8d-9e29-42cf3bc06044",
   "metadata": {},
   "outputs": [],
   "source": [
    "completion = client.beta.chat.completions.parse(\n",
    "    model=model,\n",
    "     messages=[\n",
    "        {\"role\": \"system\", \"content\": prompt_numeric},\n",
    "        {\"role\": \"user\", \"content\": [{\"type\": \"image\", \"image\": soru_tekli}]}\n",
    "    ],\n",
    "    response_format=MatReasoning\n",
    ")\n",
    "\n",
    "mat_answer = completion.choices[0].message.parsed"
   ]
  },
  {
   "cell_type": "code",
   "execution_count": 71,
   "id": "271a667a-4eb6-41a8-92d4-0a316a17f7c3",
   "metadata": {},
   "outputs": [
    {
     "name": "stdout",
     "output_type": "stream",
     "text": [
      "$\\frac{36}{100} \\times 75$\n"
     ]
    }
   ],
   "source": [
    "print(mat_answer.steps[0].output)"
   ]
  },
  {
   "cell_type": "markdown",
   "id": "504efc89-7a92-4410-b984-78e1c7c1c309",
   "metadata": {},
   "source": [
    "$\\frac{36}{100} \\times 75$"
   ]
  },
  {
   "cell_type": "code",
   "execution_count": 72,
   "id": "54959bda-70f5-4d75-95d6-9bb1a84ec4db",
   "metadata": {},
   "outputs": [
    {
     "name": "stdout",
     "output_type": "stream",
     "text": [
      "steps=[Step(explanation=\"Öncelikle %36'sı demek, 36/100 anlamına gelir. 75 sayısının %36'sını bulmak için 75 ile 36/100'ü çarpmamız gerekiyor.\", output='$\\\\frac{36}{100} \\\\times 75$'), Step(explanation=\"75 sayısını kesir ile çarpmak için, 75'i kesir payıyla çarparız ve sonucu kesir paydasına böleriz:\", output='$\\\\frac{36 \\\\times 75}{100}$'), Step(explanation='Sonuç olarak, 36 ile 75 çarparız: $36 \\\\times 75 = 2700$', output='$\\\\frac{2700}{100}$'), Step(explanation=\"Şimdi bu sonucu 100'e böleceğiz: $2700 / 100 = 27$\", output='$27$')] final_answer='B) 27'\n"
     ]
    }
   ],
   "source": [
    "print(mat_answer)"
   ]
  },
  {
   "cell_type": "markdown",
   "id": "cd9c42a8-c54e-4df5-a8c1-569381d41e4b",
   "metadata": {},
   "source": [
    "**Multiple Question**\n",
    "\n",
    "Here, since there is more than one question in the uploaded photo, we have to ask the model to answer all the questions in sequence."
   ]
  },
  {
   "cell_type": "code",
   "execution_count": 73,
   "id": "fb53bf17-62fb-4185-9451-9308e4592ccc",
   "metadata": {},
   "outputs": [
    {
     "name": "stdout",
     "output_type": "stream",
     "text": [
      "Sen, sayısal derslerde uzmanlaşmış bir öğretmensin. Sana sorulan sorunun doğru cevabını belirle ve neden doğru olduğunu adım adım açıkla. \n",
      "Açıklamalarında işlemleri adım adım anlatarak yap.\n",
      "Cevaplama tarzın net ve öğretici olmalıdır.\n",
      "Cevaplarında işlemleri LaTeX formatında yap.\n",
      "Sana dersle alakasız veya şiddet içerikli cümlelerin söylenmesi halinde cevap olarak Üzgünüm, ancak bu tarz cümlelere cevap veremiyorum de ve bırak.\n",
      "Eğer birden fazla soru soruluyorsa, ayrı ayrı tüm soruları cevapla.\n"
     ]
    }
   ],
   "source": [
    "print(prompt_numeric + \"Eğer birden fazla soru soruluyorsa, ayrı ayrı tüm soruları cevapla.\")"
   ]
  },
  {
   "cell_type": "code",
   "execution_count": 75,
   "id": "07745482-5904-4c5e-912c-cbd16ee3e05e",
   "metadata": {},
   "outputs": [],
   "source": [
    "completion = client.beta.chat.completions.parse(\n",
    "    model=model,\n",
    "     messages=[\n",
    "        {\"role\": \"system\", \"content\": prompt_numeric + \"Eğer birden fazla soru soruluyorsa, ayrı ayrı tüm soruları cevapla.\"},\n",
    "        {\"role\": \"user\", \"content\": [{\"type\": \"image\", \"image\": soru_6li}]}\n",
    "    ],\n",
    "    response_format=MatReasoning\n",
    ")\n",
    "\n",
    "mat_answer = completion.choices[0].message.parsed"
   ]
  },
  {
   "cell_type": "code",
   "execution_count": 76,
   "id": "d3077099-e093-4564-9f2f-83b904393885",
   "metadata": {},
   "outputs": [
    {
     "name": "stdout",
     "output_type": "stream",
     "text": [
      "steps=[Step(explanation=\"75 sayısının %36'sını bulmak için 75 ile 0.36 çarpılır.\", output='\\\\( 75 \\\\times 0.36 = 27 \\\\)'), Step(explanation=\"%17'si 425 olan sayıyı bulmak için 425, 0.17'ye bölünür.\", output='\\\\( \\\\frac{425}{0.17} = 2500 \\\\)'), Step(explanation=\"37 500 sayısının %0,01'i için 37 500 ile 0.0001 çarpılır.\", output='\\\\( 37 500 \\\\times 0.0001 = 3.75 \\\\)'), Step(explanation=\"Toplantıda kadınların erkeklere oranı \\\\( \\\\frac{2}{3} \\\\) olduğuna göre erkek sayısını \\\\( x \\\\), kadın sayısını \\\\( \\\\frac{2}{3}x \\\\) olarak düşünebiliriz. \\\\( x \\\\) erkek sayısı, dolayısıyla \\\\( x = 60 \\\\), kadın sayısı da \\\\( \\\\frac{2}{3} \\\\times 60 = 40 \\\\)'dır. Kadınların %10'u toplantıyı terk ederse yeni kadın sayısı 36 olur. Bunun erkeklere oranı % olarak soruluyor:\", output='\\\\( \\\\frac{36}{60} \\\\times 100 = 60 \\\\)'), Step(explanation=\"3 yıl sonra Yavuz 16, annesi ise 40 yaşında olacaktır. Yavuz'un yaşının annesinin yaşına oranını yüzde olarak bulabilmemiz için:\", output='\\\\( \\\\frac{16}{40} \\\\times 100 = 40 \\\\)'), Step(explanation=\"Hangi sayının %40'ı, 240 sayısının %10'una eşittir? Denklemi kurarak çözeceğiz. \\\\( x \\\\times 0.40 = 240 \\\\times 0.10 \\\\)\\\\( 0.4x = 24 \\\\). \\\\( x = \\\\frac{24}{0.4} \\\\).\", output='\\\\( x = 60 \\\\)')] final_answer='1. B) 27  \\n2. D) 2500  \\n3. C) 3,75  \\n4. A) 60  \\n5. D) 40  \\n6. C) 60'\n"
     ]
    }
   ],
   "source": [
    "print(mat_answer)"
   ]
  },
  {
   "cell_type": "markdown",
   "id": "53335ddb-2f00-456f-be03-5bb53ce1fb21",
   "metadata": {},
   "source": [
    "**Prompt 2**"
   ]
  },
  {
   "cell_type": "code",
   "execution_count": 10,
   "id": "2b54511c-785f-4fa7-a5cb-e607051bc6f5",
   "metadata": {},
   "outputs": [],
   "source": [
    "prompt_numeric2 = \"\"\"Sen, sayısal derslerde uzmanlaşmış bir öğretmensin. Lütfen cevabını şu formatta ver:\n",
    "\n",
    "1. Her adım için:\n",
    "   - Açıklama (basit ve anlaşılır)\n",
    "   - Matematiksel ifade (LaTeX)\n",
    "   - Ara sonuç (varsa)\n",
    "   \n",
    "2. Görsel ipuçları için yönergeler\n",
    "3. Zorluk seviyesi\n",
    "4. İlgili konular\n",
    "5. Tahmini çözüm süresi\n",
    "\n",
    "Cevabını bu yapıda JSON formatında döndür.\n",
    "Eğer birden fazla soru soruluyorsa, ayrı ayrı tüm soruları cevapla.\n",
    "\"\"\""
   ]
  },
  {
   "cell_type": "code",
   "execution_count": 20,
   "id": "adc3f4dc-6916-41a4-9ad4-8a5b0a5fcc2a",
   "metadata": {},
   "outputs": [],
   "source": [
    "class Step(BaseModel):\n",
    "    explanation: str\n",
    "    latex: str  \n",
    "    intermediate_result: Optional[str] \n",
    "    visual_hint: Optional[str] \n",
    "    \n",
    "class MatReasoning(BaseModel):\n",
    "    steps: list[Step]\n",
    "    final_answer: str\n",
    "    difficulty_level: str\n",
    "    topics: list[str]\n",
    "    time_estimate: str"
   ]
  },
  {
   "cell_type": "code",
   "execution_count": 16,
   "id": "c3a80c49-5f54-49d7-be56-c829640bc89f",
   "metadata": {},
   "outputs": [],
   "source": [
    "completion = client.beta.chat.completions.parse(\n",
    "    model=model,\n",
    "     messages=[\n",
    "        {\"role\": \"system\", \"content\": prompt_numeric2},\n",
    "        {\"role\": \"user\", \"content\": [{\"type\": \"image\", \"image\": soru_fonksiyon2}]}\n",
    "    ],\n",
    "    response_format=MatReasoning\n",
    ")\n",
    "\n",
    "mat_answer = completion.choices[0].message.parsed"
   ]
  },
  {
   "cell_type": "code",
   "execution_count": 18,
   "id": "e4acc378-0c03-466a-b26f-9737d156715f",
   "metadata": {},
   "outputs": [
    {
     "name": "stdout",
     "output_type": "stream",
     "text": [
      "steps=[Step(explanation='İlk olarak \\\\( f(x) \\\\) ve \\\\( g(x) \\\\) fonksiyonlarını inceleyelim. \\\\( f(x) = \\\\frac{x-2}{3} \\\\) ve \\\\( g(x) = \\\\frac{2x-9}{3} \\\\) olarak verildi.', latex='f(x) = \\\\frac{x-2}{3},\\\\ g(x) = \\\\frac{2x-9}{3}', intermediate_result=None, visual_hint=None), Step(explanation='Fonksiyon \\\\( 3f(x) \\\\) bulunmalıdır, bu yüzden \\\\( f(x) \\\\) fonksiyonunu 3 ile çarparız.', latex='3f(x) = 3 \\\\times \\\\frac{x-2}{3} = x-2', intermediate_result='x-2', visual_hint='Önce basit çarpma işlemi ile başlayın.'), Step(explanation='Daha sonra \\\\( (3f-g)(x) \\\\) hesaplanmalıdır, yani \\\\( 3f(x) - g(x) \\\\) ifadesini yazıyoruz.', latex='(3f-g)(x) = (x-2) - \\\\frac{2x-9}{3}', intermediate_result=None, visual_hint='İki fonksiyon arasında çıkarma işlemi yapın.'), Step(explanation=\"İfadeyi homojen hale getirmek için \\\\( x-2 \\\\)'yi de \\\\( \\\\frac{3}{3} \\\\) ile genişletiyoruz.\", latex='(3f-g)(x) = \\\\frac{3(x-2)}{3} - \\\\frac{2x-9}{3} = \\\\frac{3x - 6 - (2x - 9)}{3}', intermediate_result='\\\\frac{x + 3}{3}', visual_hint='Payda eşitlemesi yaparak işleminizi tamamlayın.'), Step(explanation=\"Bulduğumuz son ifadeyi \\\\( x = 3 \\\\)'te değerlendiriyoruz.\", latex='(3f-g)(3) = \\\\frac{3+3}{3} = 2', intermediate_result=None, visual_hint='Son olarak \\\\( x \\\\) yerine 3 koyarak nihai sonucu hesaplayın.')] final_answer='2' difficulty_level='Orta' topics=['Fonksiyonlar', 'İşlemler'] time_estimate='5 dakika' latex=''\n"
     ]
    }
   ],
   "source": [
    "print(mat_answer)"
   ]
  },
  {
   "cell_type": "code",
   "execution_count": 19,
   "id": "49c99d02-dcf2-4fa1-b276-c42c9545f975",
   "metadata": {},
   "outputs": [
    {
     "name": "stdout",
     "output_type": "stream",
     "text": [
      "2\n"
     ]
    }
   ],
   "source": [
    "print(mat_answer.final_answer)"
   ]
  },
  {
   "cell_type": "markdown",
   "id": "3f948cf6-3e26-4d0a-94e3-4d6fb6b55a56",
   "metadata": {},
   "source": [
    "**LaTeX Prompt (Optional)**"
   ]
  },
  {
   "cell_type": "code",
   "execution_count": 41,
   "id": "6097e94f-a0df-4219-a6f9-0c343e782b3c",
   "metadata": {},
   "outputs": [],
   "source": [
    "class LatexStep(BaseModel):\n",
    "    explanation: str\n",
    "    latex: str\n",
    "    intermediate_result: Optional[str] = None\n",
    "    step_number: int\n",
    "\n",
    "class LatexSolution(BaseModel):\n",
    "    steps: List[LatexStep]\n",
    "    final_answer: str\n",
    "    title: str"
   ]
  },
  {
   "cell_type": "code",
   "execution_count": 42,
   "id": "6d114723-bcfb-4c0d-8c37-4d4d3898aa7f",
   "metadata": {},
   "outputs": [],
   "source": [
    "completion = client.beta.chat.completions.parse(\n",
    "    model=model,\n",
    "     messages=[\n",
    "        {\"role\": \"system\", \"content\": prompt_numeric2},\n",
    "        {\"role\": \"user\", \"content\": [{\"type\": \"image\", \"image\": soru_tekli}]}\n",
    "    ],\n",
    "    response_format=LatexSolution\n",
    ")\n",
    "\n",
    "mat_answer = completion.choices[0].message.parsed"
   ]
  },
  {
   "cell_type": "code",
   "execution_count": 53,
   "id": "daa27712-a6ab-4b20-8ae8-8cfd61a32980",
   "metadata": {},
   "outputs": [
    {
     "name": "stdout",
     "output_type": "stream",
     "text": [
      "steps=[LatexStep(explanation=\"Öncelikle, 75 sayısının %36'sını bulmak için 75 ile 0.36'nın çarpılması gerektiğini biliyoruz. Yüzde hesabı, sayının yüzde değerini 100'e bölüp orijinal sayı ile çarpmak demektir.\", latex='75 \\\\times \\\\frac{36}{100}', intermediate_result=None, step_number=1), LatexStep(explanation='Daha sonra, yüzde sembolünü açarak kesirli çarpımı yapıyoruz.', latex='75 \\\\times 0.36', intermediate_result=None, step_number=2), LatexStep(explanation='Çarpma işlemini gerçekleştiriyoruz.', latex='75 \\\\times 0.36 = 27', intermediate_result='27', step_number=3)] final_answer='27' title=\"75 Sayısının %36'sı\"\n"
     ]
    }
   ],
   "source": [
    "print(mat_answer)"
   ]
  },
  {
   "cell_type": "code",
   "execution_count": 51,
   "id": "eec4232f-c85d-473c-af1d-4fc511d8d390",
   "metadata": {},
   "outputs": [],
   "source": [
    "latex = mat_answer.final_answer"
   ]
  },
  {
   "cell_type": "code",
   "execution_count": 52,
   "id": "dca27108-36cf-408d-b8d0-d9c1480992c5",
   "metadata": {},
   "outputs": [
    {
     "data": {
      "text/latex": [
       "$\\displaystyle 27$"
      ],
      "text/plain": [
       "<IPython.core.display.Math object>"
      ]
     },
     "metadata": {},
     "output_type": "display_data"
    }
   ],
   "source": [
    "from IPython.display import display, Math\n",
    "display(Math(latex))"
   ]
  },
  {
   "cell_type": "markdown",
   "id": "7ec1ea78-a560-4197-b390-01fd614049d5",
   "metadata": {},
   "source": [
    "# Irrelevant or Violent Sentences (Task 4)"
   ]
  },
  {
   "cell_type": "code",
   "execution_count": 69,
   "id": "4da326cc-1f88-4cbd-ae9f-3d202fdd6d84",
   "metadata": {},
   "outputs": [
    {
     "name": "stdout",
     "output_type": "stream",
     "text": [
      "Üzgünüm, ancak bu tarz cümlelere cevap veremiyorum.\n"
     ]
    }
   ],
   "source": [
    "completion = client.beta.chat.completions.parse(\n",
    "    model=model,\n",
    "     messages=[\n",
    "        {\"role\": \"system\", \"content\": prompt_verbal},\n",
    "        {\"role\": \"user\", \"content\": \"salak mısın? nasıl çözemedin bu soruyu ya\"}\n",
    "    ],\n",
    "    response_format=TRReasoning\n",
    ")\n",
    "\n",
    "answer = completion.choices[0].message.parsed\n",
    "\n",
    "print(answer.final_answer)"
   ]
  },
  {
   "cell_type": "markdown",
   "id": "41fa2e8c-d32a-496e-be91-fa56b651ef64",
   "metadata": {},
   "source": [
    "# LaTeX Workflow with Simple HTML\n",
    "\n",
    "This kind of workflow can be followed using the LaTeX API."
   ]
  },
  {
   "cell_type": "code",
   "execution_count": 22,
   "id": "c7ab28ea-e858-41e7-aa7c-45f61c242994",
   "metadata": {},
   "outputs": [],
   "source": [
    "from urllib.parse import quote\n",
    "\n",
    "def render_latex(equation: str) -> str:\n",
    "    encoded = quote(equation.strip(\"$\"))\n",
    "    return f\"https://latex.codecogs.com/png.latex?\\dpi{{200}}&bg{{FFFFFF}}&fg{{000000}}{encoded}\""
   ]
  },
  {
   "cell_type": "code",
   "execution_count": 23,
   "id": "ea921c7e-9d23-4696-b437-ecca74559113",
   "metadata": {},
   "outputs": [],
   "source": [
    "def generate_html_report(mat_answer: MatReasoning) -> str:\n",
    "    html = [\"<html><body><h1>Çözüm Adımları</h1>\"]\n",
    "    for i, step in enumerate(mat_answer.steps, 1):\n",
    "        img_url = render_latex(step.equation)\n",
    "        html.append(f\"\"\"\n",
    "            <div class='step'>\n",
    "                <h3>Adım {i}</h3>\n",
    "                <p>{step.explanation}</p>\n",
    "                <img src='{img_url}'/>\n",
    "                <p class='result'>{step.result}</p>\n",
    "            </div>\n",
    "        \"\"\")\n",
    "    html.append(f\"<h2>Sonuç: {mat_answer.final_answer}</h2></body></html>\")\n",
    "    return \"\\n\".join(html)"
   ]
  },
  {
   "cell_type": "markdown",
   "id": "b9da7b08-1880-48c0-8cf5-4cc1af7c02c1",
   "metadata": {},
   "source": [
    "# Streamlit\n",
    "\n",
    "There is no any function named get_llm_response, but it can implement."
   ]
  },
  {
   "cell_type": "code",
   "execution_count": null,
   "id": "fc09aad5-e42b-4f01-80b6-a6234e9b4d69",
   "metadata": {},
   "outputs": [],
   "source": [
    "import streamlit as st\n",
    "\n",
    "mat_answer = get_llm_response(uploaded_image) \n",
    "for step in mat_answer.steps:\n",
    "    with st.expander(f\"Adım {step.number}\"):\n",
    "        st.markdown(f\"**Açıklama:** {step.explanation}\")\n",
    "        st.image(render_latex(step.equation))\n",
    "        st.write(f\"Ara Sonuç: {step.result}\")\n",
    "st.success(f\"**Final Cevap:** {mat_answer.final_answer}\")"
   ]
  },
  {
   "cell_type": "markdown",
   "id": "5b833399-8274-4f83-8ce8-d41452e3ca9e",
   "metadata": {},
   "source": [
    "# Workflow with React\n",
    "\n",
    "A component like this can be integrated into the web. The solutionSteps here will be adjusted according to the answer from LLM."
   ]
  },
  {
   "cell_type": "code",
   "execution_count": null,
   "id": "c3111a1c-402d-4ec4-a9c0-cf5987b4c2ec",
   "metadata": {},
   "outputs": [],
   "source": [
    "import React, { useState } from 'react';\n",
    "import { Card, CardHeader, CardTitle, CardContent } from '@/components/ui/card';\n",
    "import { Tabs, TabsContent, TabsList, TabsTrigger } from '@/components/ui/tabs';\n",
    "import { ChevronRight, ChevronDown } from 'lucide-react';\n",
    "\n",
    "const MathSolutionVisualizer = () => {\n",
    "  const [currentStep, setCurrentStep] = useState(0);\n",
    "  \n",
    "  // Örnek çözüm adımları\n",
    "  const solutionSteps = [\n",
    "    {\n",
    "      explanation: \"İlk olarak denklemi düzenliyoruz\",\n",
    "      latex: \"2x + 3 = 8\",\n",
    "      intermediate: null\n",
    "    },\n",
    "    {\n",
    "      explanation: \"3'ü diğer tarafa geçiriyoruz\",\n",
    "      latex: \"2x = 8 - 3\",\n",
    "      intermediate: \"2x = 5\"\n",
    "    },\n",
    "    {\n",
    "      explanation: \"Her iki tarafı 2'ye bölüyoruz\",\n",
    "      latex: \"x = \\\\frac{5}{2}\",\n",
    "      intermediate: \"x = 2.5\"\n",
    "    }\n",
    "  ];\n",
    "\n",
    "  return (\n",
    "    <Card className=\"w-full max-w-4xl\">\n",
    "      <CardHeader>\n",
    "        <CardTitle>Adım Adım Çözüm Görselleştirici</CardTitle>\n",
    "      </CardHeader>\n",
    "      <CardContent>\n",
    "        <Tabs defaultValue=\"step-by-step\">\n",
    "          <TabsList>\n",
    "            <TabsTrigger value=\"step-by-step\">Adım Adım</TabsTrigger>\n",
    "            <TabsTrigger value=\"complete\">Tam Çözüm</TabsTrigger>\n",
    "          </TabsList>\n",
    "          \n",
    "          <TabsContent value=\"step-by-step\">\n",
    "            <div className=\"space-y-4\">\n",
    "              {solutionSteps.map((step, index) => (\n",
    "                <div \n",
    "                  key={index}\n",
    "                  className={`p-4 border rounded-lg ${\n",
    "                    index === currentStep ? 'bg-blue-50 border-blue-200' : ''\n",
    "                  }`}\n",
    "                >\n",
    "                  <div className=\"flex items-center gap-2\">\n",
    "                    {index === currentStep ? \n",
    "                      <ChevronRight className=\"text-blue-500\" /> : \n",
    "                      <ChevronDown className=\"text-gray-400\" />\n",
    "                    }\n",
    "                    <span className=\"font-medium\">Adım {index + 1}</span>\n",
    "                  </div>\n",
    "                  \n",
    "                  <div className=\"mt-2 pl-6\">\n",
    "                    <p className=\"text-gray-600\">{step.explanation}</p>\n",
    "                    <div className=\"mt-2 p-2 bg-gray-50 rounded\">\n",
    "                      <code>{step.latex}</code>\n",
    "                    </div>\n",
    "                    {step.intermediate && (\n",
    "                      <div className=\"mt-2 text-sm text-gray-500\">\n",
    "                        Ara sonuç: {step.intermediate}\n",
    "                      </div>\n",
    "                    )}\n",
    "                  </div>\n",
    "                </div>\n",
    "              ))}\n",
    "              \n",
    "              <div className=\"flex justify-between mt-4\">\n",
    "                <button\n",
    "                  className=\"px-4 py-2 border rounded disabled:opacity-50\"\n",
    "                  disabled={currentStep === 0}\n",
    "                  onClick={() => setCurrentStep(prev => prev - 1)}\n",
    "                >\n",
    "                  Önceki Adım\n",
    "                </button>\n",
    "                <button\n",
    "                  className=\"px-4 py-2 bg-blue-500 text-white rounded disabled:opacity-50\"\n",
    "                  disabled={currentStep === solutionSteps.length - 1}\n",
    "                  onClick={() => setCurrentStep(prev => prev + 1)}\n",
    "                >\n",
    "                  Sonraki Adım\n",
    "                </button>\n",
    "              </div>\n",
    "            </div>\n",
    "          </TabsContent>\n",
    "          \n",
    "          <TabsContent value=\"complete\">\n",
    "            <div className=\"space-y-4\">\n",
    "              {solutionSteps.map((step, index) => (\n",
    "                <div key={index} className=\"p-4 border rounded-lg\">\n",
    "                  <p className=\"font-medium\">Adım {index + 1}</p>\n",
    "                  <p className=\"text-gray-600 mt-2\">{step.explanation}</p>\n",
    "                  <div className=\"mt-2 p-2 bg-gray-50 rounded\">\n",
    "                    <code>{step.latex}</code>\n",
    "                  </div>\n",
    "                </div>\n",
    "              ))}\n",
    "            </div>\n",
    "          </TabsContent>\n",
    "        </Tabs>\n",
    "      </CardContent>\n",
    "    </Card>\n",
    "  );\n",
    "};\n",
    "\n",
    "export default MathSolutionVisualizer;"
   ]
  }
 ],
 "metadata": {
  "kernelspec": {
   "display_name": "Python 3 (ipykernel)",
   "language": "python",
   "name": "python3"
  },
  "language_info": {
   "codemirror_mode": {
    "name": "ipython",
    "version": 3
   },
   "file_extension": ".py",
   "mimetype": "text/x-python",
   "name": "python",
   "nbconvert_exporter": "python",
   "pygments_lexer": "ipython3",
   "version": "3.9.6"
  }
 },
 "nbformat": 4,
 "nbformat_minor": 5
}
